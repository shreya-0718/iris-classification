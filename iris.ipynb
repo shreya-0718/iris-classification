{
 "cells": [
  {
   "cell_type": "code",
   "execution_count": null,
   "id": "be246ae6",
   "metadata": {},
   "outputs": [],
   "source": [
    "!python -m pip install scikit-learn"
   ]
  },
  {
   "cell_type": "code",
   "execution_count": null,
   "id": "88ebd669",
   "metadata": {},
   "outputs": [],
   "source": [
    "!python -m pip install pandas"
   ]
  },
  {
   "cell_type": "code",
   "execution_count": null,
   "id": "77fba074",
   "metadata": {},
   "outputs": [],
   "source": [
    "import sklearn\n",
    "print(sklearn.__version__)"
   ]
  },
  {
   "cell_type": "code",
   "execution_count": null,
   "id": "619d2054",
   "metadata": {},
   "outputs": [],
   "source": [
    "!python -m pip show scikit-learn"
   ]
  },
  {
   "cell_type": "code",
   "execution_count": null,
   "id": "a075bb43",
   "metadata": {},
   "outputs": [],
   "source": [
    "# importing sklearn to load the Iris dataset\n",
    "from sklearn.datasets import load_iris\n",
    "import pandas as pd\n",
    "\n",
    "# loading the dataset\n",
    "iris = load_iris()\n",
    "\n",
    "# Access the features and target variable\n",
    "x = iris.data  # Features (sepal length, sepal width, petal length, petal width)\n",
    "y = iris.target  # Labels (species: 0 for setosa, 1 for versicolor, 2 for virginica)\n",
    "\n",
    "df = pd.DataFrame(data=iris.data, columns=iris.feature_names)\n",
    "\n",
    "df['species'] = iris.target_names[iris.target]\n",
    "\n",
    "df.head()"
   ]
  },
  {
   "cell_type": "code",
   "execution_count": null,
   "id": "b3ec6745",
   "metadata": {},
   "outputs": [],
   "source": [
    "df = pd.get_dummies(df, columns=['species'], dtype=int)"
   ]
  },
  {
   "cell_type": "code",
   "execution_count": null,
   "id": "98e43f18",
   "metadata": {},
   "outputs": [],
   "source": [
    "!pip install tensorflow"
   ]
  },
  {
   "cell_type": "code",
   "execution_count": null,
   "id": "960fbc6f",
   "metadata": {},
   "outputs": [],
   "source": [
    "import tensorflow as tf\n",
    "print(tf.__version__)"
   ]
  },
  {
   "cell_type": "code",
   "execution_count": null,
   "id": "8c06b440",
   "metadata": {},
   "outputs": [],
   "source": [
    "import pandas as pd\n",
    "import numpy as np\n",
    "import tensorflow as tf\n",
    "from tensorflow import keras\n",
    "from sklearn.model_selection import train_test_split\n",
    "from sklearn.preprocessing import StandardScaler\n",
    "\n",
    "print(df.columns.tolist())\n",
    "\n",
    "# Define the feature and label column names (after one-hot encoding)\n",
    "feature_columns = ['sepal length (cm)', 'sepal width (cm)', 'petal length (cm)', 'petal width (cm)']\n",
    "label_columns = [\n",
    "    'species_setosa',\n",
    "    'species_versicolor',\n",
    "    'species_virginica'\n",
    "]\n",
    "\n",
    "# Extract feature data and one-hot encoded labels\n",
    "X = df[feature_columns].values\n",
    "y = df[label_columns].values"
   ]
  },
  {
   "cell_type": "code",
   "execution_count": null,
   "id": "70452e6e",
   "metadata": {},
   "outputs": [],
   "source": [
    "# random_state=42 controls the random shuffling ensures we get the same split every time (reproducibility)\n",
    "X_train, X_test, y_train, y_test = train_test_split(X, y, test_size=0.2, random_state=42)\n",
    "\n",
    "\n",
    "# Standardize the features (mean=0, std=1) to improve model performance\n",
    "# Standardization helps the model learn faster and more accurately\n",
    "scaler = StandardScaler()\n",
    "X_train = scaler.fit_transform(X_train)\n",
    "X_test = scaler.transform(X_test)"
   ]
  },
  {
   "cell_type": "code",
   "execution_count": null,
   "id": "f23ec2a9",
   "metadata": {},
   "outputs": [],
   "source": [
    "# The learning rate controls the speed at which a neural network learns.\n",
    "# Too high = overshoot\n",
    "# Too low = slow learning\n",
    "\n",
    "def create_model(learning_rate=0.01):\n",
    "    model = keras.Sequential([\n",
    "        keras.layers.Input(shape=(4,)),  \n",
    "        # Input layer --> SLIDE NUM (18)\n",
    "\n",
    "        keras.layers.Dense(16, activation='relu'),  \n",
    "        # First hidden layer with 16 neurons --> SLIDE NUM (19)\n",
    "\n",
    "        keras.layers.BatchNormalization(),\n",
    "        # Batch Normalization --> SLIDE NUM (20) \n",
    "        # It adjusts and scales inputs to the next layer to make training faster and more stable.\n",
    "\n",
    "        keras.layers.Dropout(0.2),\n",
    "        # Dropout randomly turns off 20% of neurons during each training step.\n",
    "        # This makes the model more robust by preventing overfitting.\n",
    "\n",
    "        keras.layers.Dense(8, activation='relu'),  \n",
    "        # Second hidden layer with 8 neurons\n",
    "        # Fewer neurons here helps reduce complexity as we move deeper into the model.\n",
    "\n",
    "        keras.layers.BatchNormalization(),\n",
    "        keras.layers.Dropout(0.2),\n",
    "\n",
    "        keras.layers.Dense(3, activation='softmax')  \n",
    "        # Output layer with 3 neurons (one for each species)\n",
    "        # SLIDE NUM (21)\n",
    "    ])\n",
    "    \n",
    "    return model"
   ]
  },
  {
   "cell_type": "code",
   "execution_count": null,
   "id": "5f4b8115",
   "metadata": {},
   "outputs": [],
   "source": [
    "# Create the model with the previously defined function: create_model\n",
    "learning_rate = 0.01\n",
    "model = create_model(learning_rate)\n",
    "\n",
    "# Compile the model: define how it learns (optimizer), what it learns (loss), and what to track (metrics)\n",
    "model.compile(\n",
    "    optimizer=keras.optimizers.Adam(learning_rate=learning_rate), # popular optimizer that adjusts itself\n",
    "    loss='categorical_crossentropy', # best for multi-classification\n",
    "    metrics=['accuracy']  # We want to track how often the model gets it right\n",
    ")\n",
    "\n",
    "# Early stopping = stop training when validation loss stops improving for 10 rounds\n",
    "early_stopping = keras.callbacks.EarlyStopping(\n",
    "    monitor='val_loss', patience=10, restore_best_weights=True\n",
    ")"
   ]
  },
  {
   "cell_type": "code",
   "execution_count": null,
   "id": "0e998c05",
   "metadata": {},
   "outputs": [],
   "source": [
    "# batch_size=8 = update model every 8 examples\n",
    "# epochs=50 = limit to 50 training rounds (early stopping might stop sooner)\n",
    "history = model.fit(\n",
    "    X_train, y_train,\n",
    "    validation_data=(X_test, y_test),  # Use test data to monitor performance during training\n",
    "    epochs=50,\n",
    "    batch_size=8,\n",
    "    callbacks=[early_stopping],\n",
    "    verbose=1  # 1 = show training progress\n",
    ")\n",
    "\n",
    "print(\"Training done!\")"
   ]
  },
  {
   "cell_type": "code",
   "execution_count": null,
   "id": "20b873e9",
   "metadata": {},
   "outputs": [],
   "source": [
    "# Evaluate the final model on the test data\n",
    "# This gives us the final accuracy of our model on unseen data\n",
    "print(\"\\nEvaluating on test data:\")\n",
    "test_loss, test_acc = model.evaluate(X_test, y_test, verbose=0)\n",
    "print(f\"Test Accuracy: {test_acc:.4f}\")"
   ]
  },
  {
   "cell_type": "code",
   "execution_count": null,
   "id": "d1088100",
   "metadata": {},
   "outputs": [],
   "source": [
    "# save the model\n",
    "import pickle\n",
    "filename = 'savedmodel.sav'\n",
    "pickle.dump(model, open(filename, 'wb'))\n",
    "print(\"Model saved successfully!\")"
   ]
  },
  {
   "cell_type": "code",
   "execution_count": null,
   "id": "bdc75661",
   "metadata": {},
   "outputs": [],
   "source": [
    "import pickle\n",
    "load_model = pickle.load(open('savedmodel.sav','rb'))\n",
    "print(\"Model loaded successfully!\")"
   ]
  },
  {
   "cell_type": "code",
   "execution_count": null,
   "id": "82f45f2c",
   "metadata": {},
   "outputs": [],
   "source": [
    "!python -m pip install numpy"
   ]
  },
  {
   "cell_type": "code",
   "execution_count": null,
   "id": "bd20a477",
   "metadata": {},
   "outputs": [],
   "source": [
    "import numpy as np\n",
    "\n",
    "sample = np.array([[6.7, 3.3, 5, 2.1]])  # Virginica\n",
    "pred_probs = load_model.predict(sample)\n",
    "pred_class = np.argmax(pred_probs, axis=1)\n",
    "print(pred_class)"
   ]
  }
 ],
 "metadata": {
  "kernelspec": {
   "display_name": "Python 3",
   "language": "python",
   "name": "python3"
  },
  "language_info": {
   "codemirror_mode": {
    "name": "ipython",
    "version": 3
   },
   "file_extension": ".py",
   "mimetype": "text/x-python",
   "name": "python",
   "nbconvert_exporter": "python",
   "pygments_lexer": "ipython3",
   "version": "3.10.0"
  }
 },
 "nbformat": 4,
 "nbformat_minor": 5
}
