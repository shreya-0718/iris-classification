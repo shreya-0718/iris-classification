{
 "cells": [
  {
   "cell_type": "code",
   "execution_count": null,
   "id": "be246ae6",
   "metadata": {},
   "outputs": [],
   "source": [
    "!python -m pip install scikit-learn"
   ]
  },
  {
   "cell_type": "code",
   "execution_count": null,
   "id": "88ebd669",
   "metadata": {},
   "outputs": [],
   "source": [
    "!python -m pip install pandas"
   ]
  },
  {
   "cell_type": "code",
   "execution_count": 4,
   "id": "77fba074",
   "metadata": {},
   "outputs": [
    {
     "name": "stdout",
     "output_type": "stream",
     "text": [
      "1.7.1\n"
     ]
    }
   ],
   "source": [
    "import sklearn\n",
    "print(sklearn.__version__)"
   ]
  },
  {
   "cell_type": "code",
   "execution_count": null,
   "id": "619d2054",
   "metadata": {},
   "outputs": [],
   "source": [
    "!python -m pip show scikit-learn"
   ]
  },
  {
   "cell_type": "code",
   "execution_count": null,
   "id": "a075bb43",
   "metadata": {},
   "outputs": [],
   "source": [
    "# importing sklearn to load the Iris dataset\n",
    "from sklearn.datasets import load_iris\n",
    "import pandas as pd\n",
    "\n",
    "# loading the dataset\n",
    "iris = load_iris()\n",
    "\n",
    "# Access the features and target variable\n",
    "x = iris.data  # Features (sepal length, sepal width, petal length, petal width)\n",
    "y = iris.target  # Labels (species: 0 for setosa, 1 for versicolor, 2 for virginica)\n",
    "\n",
    "df = pd.DataFrame(data=iris.data, columns=iris.feature_names)\n",
    "\n",
    "df['species'] = iris.target_names[iris.target]\n",
    "\n",
    "df.head()"
   ]
  },
  {
   "cell_type": "code",
   "execution_count": null,
   "id": "b3ec6745",
   "metadata": {},
   "outputs": [],
   "source": [
    "df = pd.get_dummies(df, columns=['species'], dtype=int)"
   ]
  },
  {
   "cell_type": "code",
   "execution_count": 2,
   "id": "98e43f18",
   "metadata": {},
   "outputs": [
    {
     "name": "stdout",
     "output_type": "stream",
     "text": [
      "Defaulting to user installation because normal site-packages is not writeable\n",
      "Requirement already satisfied: tensorflow in c:\\users\\shrey\\appdata\\roaming\\python\\python310\\site-packages (2.19.0)\n",
      "Requirement already satisfied: protobuf!=4.21.0,!=4.21.1,!=4.21.2,!=4.21.3,!=4.21.4,!=4.21.5,<6.0.0dev,>=3.20.3 in c:\\users\\shrey\\appdata\\roaming\\python\\python310\\site-packages (from tensorflow) (5.29.5)\n",
      "Requirement already satisfied: typing-extensions>=3.6.6 in c:\\users\\shrey\\appdata\\roaming\\python\\python310\\site-packages (from tensorflow) (4.14.1)\n",
      "Requirement already satisfied: keras>=3.5.0 in c:\\users\\shrey\\appdata\\roaming\\python\\python310\\site-packages (from tensorflow) (3.10.0)\n",
      "Requirement already satisfied: numpy<2.2.0,>=1.26.0 in c:\\users\\shrey\\appdata\\roaming\\python\\python310\\site-packages (from tensorflow) (2.1.3)\n",
      "Requirement already satisfied: gast!=0.5.0,!=0.5.1,!=0.5.2,>=0.2.1 in c:\\users\\shrey\\appdata\\roaming\\python\\python310\\site-packages (from tensorflow) (0.6.0)\n",
      "Requirement already satisfied: absl-py>=1.0.0 in c:\\users\\shrey\\appdata\\roaming\\python\\python310\\site-packages (from tensorflow) (2.3.1)\n",
      "Requirement already satisfied: termcolor>=1.1.0 in c:\\users\\shrey\\appdata\\roaming\\python\\python310\\site-packages (from tensorflow) (3.1.0)\n",
      "Requirement already satisfied: h5py>=3.11.0 in c:\\users\\shrey\\appdata\\roaming\\python\\python310\\site-packages (from tensorflow) (3.14.0)\n",
      "Requirement already satisfied: tensorboard~=2.19.0 in c:\\users\\shrey\\appdata\\roaming\\python\\python310\\site-packages (from tensorflow) (2.19.0)\n",
      "Requirement already satisfied: wrapt>=1.11.0 in c:\\users\\shrey\\appdata\\roaming\\python\\python310\\site-packages (from tensorflow) (1.17.2)\n",
      "Requirement already satisfied: google-pasta>=0.1.1 in c:\\users\\shrey\\appdata\\roaming\\python\\python310\\site-packages (from tensorflow) (0.2.0)\n",
      "Requirement already satisfied: libclang>=13.0.0 in c:\\users\\shrey\\appdata\\roaming\\python\\python310\\site-packages (from tensorflow) (18.1.1)\n",
      "Requirement already satisfied: packaging in c:\\users\\shrey\\appdata\\roaming\\python\\python310\\site-packages (from tensorflow) (25.0)\n",
      "Requirement already satisfied: ml-dtypes<1.0.0,>=0.5.1 in c:\\users\\shrey\\appdata\\roaming\\python\\python310\\site-packages (from tensorflow) (0.5.1)\n",
      "Requirement already satisfied: astunparse>=1.6.0 in c:\\users\\shrey\\appdata\\roaming\\python\\python310\\site-packages (from tensorflow) (1.6.3)\n",
      "Requirement already satisfied: six>=1.12.0 in c:\\users\\shrey\\appdata\\roaming\\python\\python310\\site-packages (from tensorflow) (1.17.0)\n",
      "Requirement already satisfied: requests<3,>=2.21.0 in c:\\users\\shrey\\appdata\\roaming\\python\\python310\\site-packages (from tensorflow) (2.32.4)\n",
      "Requirement already satisfied: setuptools in c:\\program files\\python310\\lib\\site-packages (from tensorflow) (57.4.0)\n",
      "Requirement already satisfied: opt-einsum>=2.3.2 in c:\\users\\shrey\\appdata\\roaming\\python\\python310\\site-packages (from tensorflow) (3.4.0)\n",
      "Requirement already satisfied: grpcio<2.0,>=1.24.3 in c:\\users\\shrey\\appdata\\roaming\\python\\python310\\site-packages (from tensorflow) (1.73.1)\n",
      "Requirement already satisfied: tensorflow-io-gcs-filesystem>=0.23.1 in c:\\users\\shrey\\appdata\\roaming\\python\\python310\\site-packages (from tensorflow) (0.31.0)\n",
      "Requirement already satisfied: flatbuffers>=24.3.25 in c:\\users\\shrey\\appdata\\roaming\\python\\python310\\site-packages (from tensorflow) (25.2.10)\n",
      "Requirement already satisfied: wheel<1.0,>=0.23.0 in c:\\users\\shrey\\appdata\\roaming\\python\\python310\\site-packages (from astunparse>=1.6.0->tensorflow) (0.45.1)\n",
      "Requirement already satisfied: optree in c:\\users\\shrey\\appdata\\roaming\\python\\python310\\site-packages (from keras>=3.5.0->tensorflow) (0.16.0)\n",
      "Requirement already satisfied: namex in c:\\users\\shrey\\appdata\\roaming\\python\\python310\\site-packages (from keras>=3.5.0->tensorflow) (0.1.0)\n",
      "Requirement already satisfied: rich in c:\\users\\shrey\\appdata\\roaming\\python\\python310\\site-packages (from keras>=3.5.0->tensorflow) (14.0.0)\n",
      "Requirement already satisfied: charset_normalizer<4,>=2 in c:\\users\\shrey\\appdata\\roaming\\python\\python310\\site-packages (from requests<3,>=2.21.0->tensorflow) (3.4.2)\n",
      "Requirement already satisfied: urllib3<3,>=1.21.1 in c:\\users\\shrey\\appdata\\roaming\\python\\python310\\site-packages (from requests<3,>=2.21.0->tensorflow) (2.5.0)\n",
      "Requirement already satisfied: idna<4,>=2.5 in c:\\users\\shrey\\appdata\\roaming\\python\\python310\\site-packages (from requests<3,>=2.21.0->tensorflow) (3.10)\n",
      "Requirement already satisfied: certifi>=2017.4.17 in c:\\users\\shrey\\appdata\\roaming\\python\\python310\\site-packages (from requests<3,>=2.21.0->tensorflow) (2025.7.14)\n",
      "Requirement already satisfied: werkzeug>=1.0.1 in c:\\users\\shrey\\appdata\\roaming\\python\\python310\\site-packages (from tensorboard~=2.19.0->tensorflow) (3.1.3)\n",
      "Requirement already satisfied: markdown>=2.6.8 in c:\\users\\shrey\\appdata\\roaming\\python\\python310\\site-packages (from tensorboard~=2.19.0->tensorflow) (3.8.2)\n",
      "Requirement already satisfied: tensorboard-data-server<0.8.0,>=0.7.0 in c:\\users\\shrey\\appdata\\roaming\\python\\python310\\site-packages (from tensorboard~=2.19.0->tensorflow) (0.7.2)\n",
      "Requirement already satisfied: MarkupSafe>=2.1.1 in c:\\users\\shrey\\appdata\\roaming\\python\\python310\\site-packages (from werkzeug>=1.0.1->tensorboard~=2.19.0->tensorflow) (3.0.2)\n",
      "Requirement already satisfied: pygments<3.0.0,>=2.13.0 in c:\\users\\shrey\\appdata\\roaming\\python\\python310\\site-packages (from rich->keras>=3.5.0->tensorflow) (2.19.2)\n",
      "Requirement already satisfied: markdown-it-py>=2.2.0 in c:\\users\\shrey\\appdata\\roaming\\python\\python310\\site-packages (from rich->keras>=3.5.0->tensorflow) (3.0.0)\n",
      "Requirement already satisfied: mdurl~=0.1 in c:\\users\\shrey\\appdata\\roaming\\python\\python310\\site-packages (from markdown-it-py>=2.2.0->rich->keras>=3.5.0->tensorflow) (0.1.2)\n"
     ]
    },
    {
     "name": "stderr",
     "output_type": "stream",
     "text": [
      "WARNING: You are using pip version 21.2.3; however, version 25.1.1 is available.\n",
      "You should consider upgrading via the 'C:\\Program Files\\Python310\\python.exe -m pip install --upgrade pip' command.\n"
     ]
    }
   ],
   "source": [
    "!pip install tensorflow"
   ]
  },
  {
   "cell_type": "code",
   "execution_count": 3,
   "id": "960fbc6f",
   "metadata": {},
   "outputs": [
    {
     "name": "stdout",
     "output_type": "stream",
     "text": [
      "2.19.0\n"
     ]
    }
   ],
   "source": [
    "import tensorflow as tf\n",
    "print(tf.__version__)"
   ]
  },
  {
   "cell_type": "code",
   "execution_count": null,
   "id": "8c06b440",
   "metadata": {},
   "outputs": [],
   "source": [
    "import pandas as pd\n",
    "import numpy as np\n",
    "import tensorflow as tf\n",
    "from tensorflow import keras\n",
    "from sklearn.model_selection import train_test_split\n",
    "from sklearn.preprocessing import StandardScaler\n",
    "\n",
    "print(df.columns.tolist())\n",
    "\n",
    "# Define the feature and label column names (after one-hot encoding)\n",
    "feature_columns = ['sepal length (cm)', 'sepal width (cm)', 'petal length (cm)', 'petal width (cm)']\n",
    "label_columns = [\n",
    "    'species_setosa',\n",
    "    'species_versicolor',\n",
    "    'species_virginica'\n",
    "]\n",
    "\n",
    "# Extract feature data and one-hot encoded labels\n",
    "X = df[feature_columns].values\n",
    "y = df[label_columns].values"
   ]
  },
  {
   "cell_type": "code",
   "execution_count": null,
   "id": "70452e6e",
   "metadata": {},
   "outputs": [],
   "source": [
    "# random_state=42 controls the random shuffling ensures we get the same split every time (reproducibility)\n",
    "X_train, X_test, y_train, y_test = train_test_split(X, y, test_size=0.2, random_state=42)\n",
    "\n",
    "\n",
    "# Standardize the features (mean=0, std=1) to improve model performance\n",
    "# Standardization helps the model learn faster and more accurately\n",
    "scaler = StandardScaler()\n",
    "X_train = scaler.fit_transform(X_train)\n",
    "X_test = scaler.transform(X_test)"
   ]
  },
  {
   "cell_type": "code",
   "execution_count": null,
   "id": "f23ec2a9",
   "metadata": {},
   "outputs": [],
   "source": [
    "# The learning rate controls the speed at which a neural network learns.\n",
    "# Too high = overshoot\n",
    "# Too low = slow learning\n",
    "\n",
    "def create_model(learning_rate=0.01):\n",
    "    model = keras.Sequential([\n",
    "        keras.layers.Input(shape=(4,)),  \n",
    "        # Input layer --> SLIDE NUM (18)\n",
    "\n",
    "        keras.layers.Dense(16, activation='relu'),  \n",
    "        # First hidden layer with 16 neurons --> SLIDE NUM (19)\n",
    "\n",
    "        keras.layers.BatchNormalization(),\n",
    "        # Batch Normalization --> SLIDE NUM (20) \n",
    "        # It adjusts and scales inputs to the next layer to make training faster and more stable.\n",
    "\n",
    "        keras.layers.Dropout(0.2),\n",
    "        # Dropout randomly turns off 20% of neurons during each training step.\n",
    "        # This makes the model more robust by preventing overfitting.\n",
    "\n",
    "        keras.layers.Dense(8, activation='relu'),  \n",
    "        # Second hidden layer with 8 neurons\n",
    "        # Fewer neurons here helps reduce complexity as we move deeper into the model.\n",
    "\n",
    "        keras.layers.BatchNormalization(),\n",
    "        keras.layers.Dropout(0.2),\n",
    "\n",
    "        keras.layers.Dense(3, activation='softmax')  \n",
    "        # Output layer with 3 neurons (one for each species)\n",
    "        # SLIDE NUM (21)\n",
    "    ])\n",
    "    \n",
    "    return model"
   ]
  },
  {
   "cell_type": "code",
   "execution_count": null,
   "id": "5f4b8115",
   "metadata": {},
   "outputs": [],
   "source": [
    "# Create the model with the previously defined function: create_model\n",
    "learning_rate = 0.01\n",
    "model = create_model(learning_rate)\n",
    "\n",
    "# Compile the model: define how it learns (optimizer), what it learns (loss), and what to track (metrics)\n",
    "model.compile(\n",
    "    optimizer=keras.optimizers.Adam(learning_rate=learning_rate), # popular optimizer that adjusts itself\n",
    "    loss='categorical_crossentropy', # best for multi-classification\n",
    "    metrics=['accuracy']  # We want to track how often the model gets it right\n",
    ")\n",
    "\n",
    "# Early stopping = stop training when validation loss stops improving for 10 rounds\n",
    "early_stopping = keras.callbacks.EarlyStopping(\n",
    "    monitor='val_loss', patience=10, restore_best_weights=True\n",
    ")"
   ]
  },
  {
   "cell_type": "code",
   "execution_count": null,
   "id": "0e998c05",
   "metadata": {},
   "outputs": [],
   "source": [
    "# batch_size=8 = update model every 8 examples\n",
    "# epochs=50 = limit to 50 training rounds (early stopping might stop sooner)\n",
    "history = model.fit(\n",
    "    X_train, y_train,\n",
    "    validation_data=(X_test, y_test),  # Use test data to monitor performance during training\n",
    "    epochs=50,\n",
    "    batch_size=8,\n",
    "    callbacks=[early_stopping],\n",
    "    verbose=1  # 1 = show training progress\n",
    ")\n",
    "\n",
    "print(\"Training done!\")"
   ]
  },
  {
   "cell_type": "code",
   "execution_count": null,
   "id": "20b873e9",
   "metadata": {},
   "outputs": [],
   "source": [
    "# Evaluate the final model on the test data\n",
    "# This gives us the final accuracy of our model on unseen data\n",
    "print(\"\\nEvaluating on test data:\")\n",
    "test_loss, test_acc = model.evaluate(X_test, y_test, verbose=0)\n",
    "print(f\"Test Accuracy: {test_acc:.4f}\")"
   ]
  },
  {
   "cell_type": "code",
   "execution_count": null,
   "id": "d1088100",
   "metadata": {},
   "outputs": [],
   "source": [
    "# save the model\n",
    "import pickle\n",
    "filename = 'savedmodel.sav'\n",
    "pickle.dump(model, open(filename, 'wb'))\n",
    "print(\"Model saved successfully!\")"
   ]
  },
  {
   "cell_type": "code",
   "execution_count": null,
   "id": "bdc75661",
   "metadata": {},
   "outputs": [],
   "source": [
    "import pickle\n",
    "load_model = pickle.load(open('savedmodel.sav','rb'))\n",
    "print(\"Model loaded successfully!\")"
   ]
  },
  {
   "cell_type": "code",
   "execution_count": null,
   "id": "82f45f2c",
   "metadata": {},
   "outputs": [],
   "source": [
    "!python -m pip install numpy"
   ]
  },
  {
   "cell_type": "code",
   "execution_count": null,
   "id": "bd20a477",
   "metadata": {},
   "outputs": [],
   "source": [
    "import numpy as np\n",
    "\n",
    "sample = np.array([[6.7, 3.3, 5, 2.1]])  # Virginica\n",
    "pred_probs = load_model.predict(sample)\n",
    "pred_class = np.argmax(pred_probs, axis=1)\n",
    "print(pred_class)"
   ]
  },
  {
   "cell_type": "code",
   "execution_count": 1,
   "id": "6be460c2",
   "metadata": {},
   "outputs": [
    {
     "name": "stdout",
     "output_type": "stream",
     "text": [
      "3.10.0\n"
     ]
    }
   ],
   "source": [
    "import keras\n",
    "print(keras.__version__)"
   ]
  }
 ],
 "metadata": {
  "kernelspec": {
   "display_name": "Python 3",
   "language": "python",
   "name": "python3"
  },
  "language_info": {
   "codemirror_mode": {
    "name": "ipython",
    "version": 3
   },
   "file_extension": ".py",
   "mimetype": "text/x-python",
   "name": "python",
   "nbconvert_exporter": "python",
   "pygments_lexer": "ipython3",
   "version": "3.10.0"
  }
 },
 "nbformat": 4,
 "nbformat_minor": 5
}
